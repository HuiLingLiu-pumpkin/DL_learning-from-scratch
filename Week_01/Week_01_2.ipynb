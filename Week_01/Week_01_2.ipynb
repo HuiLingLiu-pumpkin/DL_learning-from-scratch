{
  "nbformat": 4,
  "nbformat_minor": 0,
  "metadata": {
    "colab": {
      "provenance": []
    },
    "kernelspec": {
      "name": "python3",
      "display_name": "Python 3"
    },
    "language_info": {
      "name": "python"
    }
  },
  "cells": [
    {
      "cell_type": "code",
      "execution_count": 1,
      "metadata": {
        "id": "ZVV9Yu8fcCQD"
      },
      "outputs": [],
      "source": [
        "import numpy as np\n"
      ]
    },
    {
      "cell_type": "code",
      "source": [
        "class Variable:\n",
        "    def __init__(self, data):\n",
        "        self.data = data\n"
      ],
      "metadata": {
        "id": "wIXfjw-7cDFP"
      },
      "execution_count": 2,
      "outputs": []
    },
    {
      "cell_type": "code",
      "source": [
        "class Function:\n",
        "    def __call__(self, input):\n",
        "        x = input.data\n",
        "        y = self.forward(x)\n",
        "        output = Variable(y)\n",
        "        self.input = input\n",
        "        self.output = output\n",
        "        return output"
      ],
      "metadata": {
        "id": "8u0TYNVUcEyH"
      },
      "execution_count": 3,
      "outputs": []
    },
    {
      "cell_type": "code",
      "source": [
        "def forward(self, x):\n",
        "        raise NotImplementedError()\n"
      ],
      "metadata": {
        "id": "4osGTX_McGR5"
      },
      "execution_count": 4,
      "outputs": []
    },
    {
      "cell_type": "code",
      "source": [
        "class Square(Function):\n",
        "    def forward(self, x):\n",
        "        return x ** 2"
      ],
      "metadata": {
        "id": "BMr_XZxFcIDZ"
      },
      "execution_count": 5,
      "outputs": []
    },
    {
      "cell_type": "code",
      "source": [
        "class Exp(Function):\n",
        "    def forward(self, x):\n",
        "        return np.exp(x)\n"
      ],
      "metadata": {
        "id": "e0wjZciwcJdO"
      },
      "execution_count": 6,
      "outputs": []
    },
    {
      "cell_type": "code",
      "source": [
        "def numerical_diff(f, x, eps=1e-4):\n",
        "    x0 = Variable(x.data - eps)\n",
        "    x1 = Variable(x.data + eps)\n",
        "    y0 = f(x0)\n",
        "    y1 = f(x1)\n",
        "    return (y1.data - y0.data) / (2 * eps)\n"
      ],
      "metadata": {
        "id": "nmvzU1xdcK0Y"
      },
      "execution_count": 7,
      "outputs": []
    },
    {
      "cell_type": "code",
      "source": [
        "f = Square()\n",
        "x = Variable(np.array(2.0))\n",
        "dy = numerical_diff(f, x)\n",
        "print(dy)"
      ],
      "metadata": {
        "colab": {
          "base_uri": "https://localhost:8080/"
        },
        "id": "4FvV6Sq9cMW3",
        "outputId": "9d39b42c-dd4e-40fd-ed45-d7d494b1ef85"
      },
      "execution_count": 8,
      "outputs": [
        {
          "output_type": "stream",
          "name": "stdout",
          "text": [
            "4.000000000004\n"
          ]
        }
      ]
    },
    {
      "cell_type": "code",
      "source": [
        "def f(x):\n",
        "    A = Square()\n",
        "    B = Exp()\n",
        "    C = Square()\n",
        "    return C(B(A(x)))\n"
      ],
      "metadata": {
        "id": "b28BFuv3cN3t"
      },
      "execution_count": 9,
      "outputs": []
    },
    {
      "cell_type": "code",
      "source": [
        "x = Variable(np.array(0.5))\n",
        "dy = numerical_diff(f, x)\n",
        "print(dy)"
      ],
      "metadata": {
        "colab": {
          "base_uri": "https://localhost:8080/"
        },
        "id": "OUvdSYZtcPTv",
        "outputId": "c2f5079a-932b-4b72-dfa7-306734c88b7d"
      },
      "execution_count": 10,
      "outputs": [
        {
          "output_type": "stream",
          "name": "stdout",
          "text": [
            "3.2974426293330694\n"
          ]
        }
      ]
    },
    {
      "cell_type": "code",
      "source": [],
      "metadata": {
        "id": "Igv22aOPcSZZ"
      },
      "execution_count": null,
      "outputs": []
    }
  ]
}